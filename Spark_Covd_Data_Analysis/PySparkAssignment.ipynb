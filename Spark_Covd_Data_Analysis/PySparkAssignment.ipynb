{
 "cells": [
  {
   "cell_type": "code",
   "execution_count": 2,
   "id": "d77ccf64-ac91-4830-a618-746561b5013e",
   "metadata": {},
   "outputs": [],
   "source": [
    "from pyspark.sql import SparkSession"
   ]
  },
  {
   "cell_type": "code",
   "execution_count": 29,
   "id": "d54926b4-36af-4fbf-9681-ca326c0b4f45",
   "metadata": {},
   "outputs": [],
   "source": [
    "from pyspark.sql.functions import col, lower, max, min, count, sum, expr, month, when, upper,trim,month"
   ]
  },
  {
   "cell_type": "code",
   "execution_count": 4,
   "id": "b441f7c1-10df-4859-b68d-618a92578000",
   "metadata": {},
   "outputs": [],
   "source": [
    "spark = SparkSession.builder.appName(\"Covid Data Analysis\").getOrCreate()"
   ]
  },
  {
   "cell_type": "code",
   "execution_count": 5,
   "id": "64db8b74-aa97-471a-9f23-529c9b5e2bbf",
   "metadata": {},
   "outputs": [],
   "source": [
    "df = spark.read.csv(\"Downloads/complete.csv\", header=True, inferSchema=True)"
   ]
  },
  {
   "cell_type": "code",
   "execution_count": 6,
   "id": "4bd45afb-b40d-444a-ae7b-eeec6a8382e4",
   "metadata": {},
   "outputs": [],
   "source": [
    "# Convert state names to lowercase\n",
    "df = df.withColumn(\"State\", lower(col(\"State\")))"
   ]
  },
  {
   "cell_type": "code",
   "execution_count": 7,
   "id": "c054d3ea-8371-40d3-9c2c-c84ec66b31cf",
   "metadata": {},
   "outputs": [
    {
     "name": "stdout",
     "output_type": "stream",
     "text": [
      "+----------+------+--------+---------+---------------------+-----+-------------------------+---------+----------+-------------+\n",
      "|      Date| State|Latitude|Longitude|Total Confirmed cases|Death|Cured/Discharged/Migrated|New cases|New deaths|New recovered|\n",
      "+----------+------+--------+---------+---------------------+-----+-------------------------+---------+----------+-------------+\n",
      "|30-01-2020|kerala| 10.8505|  76.2711|                    1|    0|                        0|        0|         0|            0|\n",
      "|31-01-2020|kerala| 10.8505|  76.2711|                    1|    0|                        0|        0|         0|            0|\n",
      "|01-02-2020|kerala| 10.8505|  76.2711|                    2|    0|                        0|        1|         0|            0|\n",
      "|02-02-2020|kerala| 10.8505|  76.2711|                    3|    0|                        0|        1|         0|            0|\n",
      "|03-02-2020|kerala| 10.8505|  76.2711|                    3|    0|                        0|        0|         0|            0|\n",
      "|04-02-2020|kerala| 10.8505|  76.2711|                    3|    0|                        0|        0|         0|            0|\n",
      "|05-02-2020|kerala| 10.8505|  76.2711|                    3|    0|                        0|        0|         0|            0|\n",
      "|06-02-2020|kerala| 10.8505|  76.2711|                    3|    0|                        0|        0|         0|            0|\n",
      "|07-02-2020|kerala| 10.8505|  76.2711|                    3|    0|                        0|        0|         0|            0|\n",
      "|08-02-2020|kerala| 10.8505|  76.2711|                    3|    0|                        0|        0|         0|            0|\n",
      "|09-02-2020|kerala| 10.8505|  76.2711|                    3|    0|                        0|        0|         0|            0|\n",
      "|10-02-2020|kerala| 10.8505|  76.2711|                    3|    0|                        0|        0|         0|            0|\n",
      "|11-02-2020|kerala| 10.8505|  76.2711|                    3|    0|                        0|        0|         0|            0|\n",
      "|12-02-2020|kerala| 10.8505|  76.2711|                    3|    0|                        0|        0|         0|            0|\n",
      "|13-02-2020|kerala| 10.8505|  76.2711|                    3|    0|                        0|        0|         0|            0|\n",
      "|14-02-2020|kerala| 10.8505|  76.2711|                    3|    0|                        0|        0|         0|            0|\n",
      "|15-02-2020|kerala| 10.8505|  76.2711|                    3|    0|                        0|        0|         0|            0|\n",
      "|16-02-2020|kerala| 10.8505|  76.2711|                    3|    0|                        0|        0|         0|            0|\n",
      "|17-02-2020|kerala| 10.8505|  76.2711|                    3|    0|                        0|        0|         0|            0|\n",
      "|18-02-2020|kerala| 10.8505|  76.2711|                    3|    0|                        0|        0|         0|            0|\n",
      "+----------+------+--------+---------+---------------------+-----+-------------------------+---------+----------+-------------+\n",
      "only showing top 20 rows\n",
      "\n"
     ]
    }
   ],
   "source": [
    "df.show()"
   ]
  },
  {
   "cell_type": "code",
   "execution_count": 8,
   "id": "ea1f11dc-4139-4824-9c09-7d00c46a6de3",
   "metadata": {},
   "outputs": [
    {
     "name": "stdout",
     "output_type": "stream",
     "text": [
      "The day with the greatest number of COVID cases is: 26-07-2020 with 18366 cases.\n"
     ]
    }
   ],
   "source": [
    "# Find the day with the greatest number of COVID cases\n",
    "max_cases_day = df.orderBy(col(\"New cases\").desc()).select(\"Date\", \"New cases\").first()\n",
    "print(f\"The day with the greatest number of COVID cases is: {max_cases_day['Date']} with {max_cases_day['New cases']} cases.\")"
   ]
  },
  {
   "cell_type": "code",
   "execution_count": 9,
   "id": "63186be7-4646-427b-8aeb-627f39eaac0e",
   "metadata": {},
   "outputs": [
    {
     "name": "stdout",
     "output_type": "stream",
     "text": [
      "State : tamil nadu \n",
      "No of Cases: 7847083 cases.\n"
     ]
    }
   ],
   "source": [
    "# Find the state with the second-largest number of COVID cases\n",
    "state_cases = df.groupBy(\"State\").sum(\"Total Confirmed cases\").orderBy(col(\"sum(Total Confirmed cases)\").desc())\n",
    "second_largest_state = state_cases.collect()[1]\n",
    "print(f\"State : {second_largest_state['State']} \\nNo of Cases: {second_largest_state['sum(Total Confirmed cases)']} cases.\")\n"
   ]
  },
  {
   "cell_type": "code",
   "execution_count": 12,
   "id": "58dfc5e4-e031-4dc3-bed9-66e109318204",
   "metadata": {},
   "outputs": [],
   "source": [
    "df = df.withColumn(\"Death\", col(\"Death\").cast(\"int\"))"
   ]
  },
  {
   "cell_type": "code",
   "execution_count": 38,
   "id": "86a5beb3-a0c0-47ff-bca4-55ca1755ab9f",
   "metadata": {
    "scrolled": true
   },
   "outputs": [
    {
     "name": "stdout",
     "output_type": "stream",
     "text": [
      "The Union Territory with the least number of deaths is: union territory of ladakh with 0 deaths.\n"
     ]
    }
   ],
   "source": [
    "ut_least_deaths = df.filter(col(\"State\").contains(\"union territory\")).groupBy(\"State\").sum(\"Death\").orderBy(col(\"sum(Death)\").asc()).first()\n",
    "print(f\"The Union Territory with the least number of deaths is: {ut_least_deaths['State']} with {ut_least_deaths['sum(Death)']} deaths.\")"
   ]
  },
  {
   "cell_type": "code",
   "execution_count": 26,
   "id": "abb9534d-392b-40b7-ae0b-60634e7a2ed2",
   "metadata": {},
   "outputs": [
    {
     "data": {
      "text/plain": [
       "[('Death', 'int')]"
      ]
     },
     "execution_count": 26,
     "metadata": {},
     "output_type": "execute_result"
    }
   ],
   "source": [
    "df.select(\"Death\").dtypes"
   ]
  },
  {
   "cell_type": "code",
   "execution_count": 27,
   "id": "2a9de3cb-e0f5-4491-b05f-b7b3737d39a7",
   "metadata": {},
   "outputs": [
    {
     "name": "stdout",
     "output_type": "stream",
     "text": [
      "The Union Territory with the least number of deaths is: union territory of ladakh with 0 deaths.\n"
     ]
    }
   ],
   "source": [
    "ut_least_deaths = df.filter(col(\"State\").contains(\"union territory\")).groupBy(\"State\").sum(\"Death\").orderBy(col(\"sum(Death)\").asc()).first()\n",
    "print(f\"The Union Territory with the least number of deaths is: {ut_least_deaths['State']} with {ut_least_deaths['sum(Death)']} deaths.\")"
   ]
  },
  {
   "cell_type": "code",
   "execution_count": 28,
   "id": "fe8df7ea-7ded-49c3-bd11-1e0d25b117bf",
   "metadata": {},
   "outputs": [
    {
     "name": "stdout",
     "output_type": "stream",
     "text": [
      "The state with the lowest Death to Total Confirmed cases ratio is: puducherry with a ratio of None.\n"
     ]
    }
   ],
   "source": [
    "# Calculate the Death to Total Confirmed cases ratio and find the state with the lowest ratio\n",
    "df = df.withColumn(\"DeathToConfirmedRatio\", col(\"Death\") / col(\"Total Confirmed cases\"))\n",
    "lowest_ratio_state = df.orderBy(col(\"DeathToConfirmedRatio\").asc()).select(\"State\", \"DeathToConfirmedRatio\").first()\n",
    "print(f\"The state with the lowest Death to Total Confirmed cases ratio is: {lowest_ratio_state['State']} with a ratio of {lowest_ratio_state['DeathToConfirmedRatio']}.\")\n"
   ]
  },
  {
   "cell_type": "code",
   "execution_count": 37,
   "id": "591166ac-dfbc-4a2a-8760-dc0795987ba3",
   "metadata": {},
   "outputs": [
    {
     "name": "stdout",
     "output_type": "stream",
     "text": [
      "No valid month data found.\n"
     ]
    }
   ],
   "source": [
    "from pyspark.sql.functions import month, col, to_date\n",
    "import calendar\n",
    "\n",
    "# Ensure the \"Date\" field is in date format\n",
    "df = df.withColumn(\"Date\", to_date(col(\"Date\"), \"yyyy-MM-dd\"))\n",
    "\n",
    "# Extract the month from the \"Date\" column\n",
    "df = df.withColumn(\"Month\", month(col(\"Date\")))\n",
    "\n",
    "# Find the month with the most new recovered cases\n",
    "most_recovered_month = df.groupBy(\"Month\").sum(\"New recovered\").orderBy(col(\"sum(New recovered)\").desc()).first()\n",
    "\n",
    "# Convert the month number to the month name\n",
    "if most_recovered_month and most_recovered_month[\"Month\"] is not None:\n",
    "    month_name = calendar.month_name[int(most_recovered_month[\"Month\"])]\n",
    "    print(f\"The month with the most new recovered cases is: {month_name} with {most_recovered_month['sum(New recovered)']} recovered cases.\")\n",
    "else:\n",
    "    print(\"No valid month data found.\")\n"
   ]
  },
  {
   "cell_type": "code",
   "execution_count": null,
   "id": "51035961-5012-4f9a-a7fd-5e0a2af9bed2",
   "metadata": {},
   "outputs": [],
   "source": []
  }
 ],
 "metadata": {
  "kernelspec": {
   "display_name": "Python 3 (ipykernel)",
   "language": "python",
   "name": "python3"
  },
  "language_info": {
   "codemirror_mode": {
    "name": "ipython",
    "version": 3
   },
   "file_extension": ".py",
   "mimetype": "text/x-python",
   "name": "python",
   "nbconvert_exporter": "python",
   "pygments_lexer": "ipython3",
   "version": "3.12.4"
  }
 },
 "nbformat": 4,
 "nbformat_minor": 5
}
